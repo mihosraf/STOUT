{
 "cells": [
  {
   "cell_type": "code",
   "execution_count": null,
   "id": "1a4967d9",
   "metadata": {},
   "outputs": [],
   "source": []
  },
  {
   "cell_type": "code",
   "execution_count": 1,
   "id": "4fd16589",
   "metadata": {},
   "outputs": [],
   "source": [
    "import pandas as pd #Import pandas\n",
    "import sys #Determine Python version number"
   ]
  },
  {
   "cell_type": "markdown",
   "id": "6a4036d1",
   "metadata": {},
   "source": [
    " Pandas and python version"
   ]
  },
  {
   "cell_type": "code",
   "execution_count": 2,
   "id": "01aa32f8",
   "metadata": {},
   "outputs": [
    {
     "name": "stdout",
     "output_type": "stream",
     "text": [
      "Python version3.9.13 (main, Aug 25 2022, 23:51:50) [MSC v.1916 64 bit (AMD64)]\n",
      "Pandas version1.4.4\n"
     ]
    }
   ],
   "source": [
    "print('Python version' + sys.version)\n",
    "print('Pandas version' + pd.__version__)"
   ]
  },
  {
   "cell_type": "markdown",
   "id": "4d8f3da4",
   "metadata": {},
   "source": [
    "Read CSV File"
   ]
  },
  {
   "cell_type": "code",
   "execution_count": 3,
   "id": "723ae738",
   "metadata": {},
   "outputs": [],
   "source": [
    "customerorders = pd.read_csv('casestudy.csv')"
   ]
  },
  {
   "cell_type": "markdown",
   "id": "b0bb5b99",
   "metadata": {},
   "source": [
    "Copy to new df, so that the changes wont affect the original df"
   ]
  },
  {
   "cell_type": "code",
   "execution_count": 4,
   "id": "91450793",
   "metadata": {},
   "outputs": [],
   "source": [
    "df = customerorders.copy()"
   ]
  },
  {
   "cell_type": "markdown",
   "id": "ff4262b2",
   "metadata": {},
   "source": [
    "Check variable data types"
   ]
  },
  {
   "cell_type": "code",
   "execution_count": 5,
   "id": "87821a60",
   "metadata": {},
   "outputs": [
    {
     "name": "stdout",
     "output_type": "stream",
     "text": [
      "<class 'pandas.core.frame.DataFrame'>\n",
      "RangeIndex: 685927 entries, 0 to 685926\n",
      "Data columns (total 4 columns):\n",
      " #   Column          Non-Null Count   Dtype  \n",
      "---  ------          --------------   -----  \n",
      " 0   Unnamed: 0      685927 non-null  int64  \n",
      " 1   customer_email  685927 non-null  object \n",
      " 2   net_revenue     685927 non-null  float64\n",
      " 3   year            685927 non-null  int64  \n",
      "dtypes: float64(1), int64(2), object(1)\n",
      "memory usage: 20.9+ MB\n"
     ]
    }
   ],
   "source": [
    "df.info()"
   ]
  },
  {
   "cell_type": "markdown",
   "id": "b131bb31",
   "metadata": {},
   "source": [
    "Ckeck for missing values"
   ]
  },
  {
   "cell_type": "code",
   "execution_count": 6,
   "id": "aaa350c4",
   "metadata": {},
   "outputs": [
    {
     "data": {
      "text/plain": [
       "Unnamed: 0        0\n",
       "customer_email    0\n",
       "net_revenue       0\n",
       "year              0\n",
       "dtype: int64"
      ]
     },
     "execution_count": 6,
     "metadata": {},
     "output_type": "execute_result"
    }
   ],
   "source": [
    "df.isnull().sum()"
   ]
  },
  {
   "cell_type": "markdown",
   "id": "943dcb16",
   "metadata": {},
   "source": [
    "Display the first rows of df"
   ]
  },
  {
   "cell_type": "code",
   "execution_count": 7,
   "id": "7b7a6c90",
   "metadata": {},
   "outputs": [
    {
     "data": {
      "text/html": [
       "<div>\n",
       "<style scoped>\n",
       "    .dataframe tbody tr th:only-of-type {\n",
       "        vertical-align: middle;\n",
       "    }\n",
       "\n",
       "    .dataframe tbody tr th {\n",
       "        vertical-align: top;\n",
       "    }\n",
       "\n",
       "    .dataframe thead th {\n",
       "        text-align: right;\n",
       "    }\n",
       "</style>\n",
       "<table border=\"1\" class=\"dataframe\">\n",
       "  <thead>\n",
       "    <tr style=\"text-align: right;\">\n",
       "      <th></th>\n",
       "      <th>Unnamed: 0</th>\n",
       "      <th>customer_email</th>\n",
       "      <th>net_revenue</th>\n",
       "      <th>year</th>\n",
       "    </tr>\n",
       "  </thead>\n",
       "  <tbody>\n",
       "    <tr>\n",
       "      <th>0</th>\n",
       "      <td>0</td>\n",
       "      <td>nhknapwsbx@gmail.com</td>\n",
       "      <td>249.92</td>\n",
       "      <td>2015</td>\n",
       "    </tr>\n",
       "    <tr>\n",
       "      <th>1</th>\n",
       "      <td>1</td>\n",
       "      <td>joiuzbvcpn@gmail.com</td>\n",
       "      <td>87.61</td>\n",
       "      <td>2015</td>\n",
       "    </tr>\n",
       "    <tr>\n",
       "      <th>2</th>\n",
       "      <td>2</td>\n",
       "      <td>ukkjctepxt@gmail.com</td>\n",
       "      <td>168.38</td>\n",
       "      <td>2015</td>\n",
       "    </tr>\n",
       "    <tr>\n",
       "      <th>3</th>\n",
       "      <td>3</td>\n",
       "      <td>gykatilzrt@gmail.com</td>\n",
       "      <td>62.40</td>\n",
       "      <td>2015</td>\n",
       "    </tr>\n",
       "    <tr>\n",
       "      <th>4</th>\n",
       "      <td>4</td>\n",
       "      <td>mmsgsrtxah@gmail.com</td>\n",
       "      <td>43.08</td>\n",
       "      <td>2015</td>\n",
       "    </tr>\n",
       "  </tbody>\n",
       "</table>\n",
       "</div>"
      ],
      "text/plain": [
       "   Unnamed: 0         customer_email  net_revenue  year\n",
       "0           0   nhknapwsbx@gmail.com       249.92  2015\n",
       "1           1   joiuzbvcpn@gmail.com        87.61  2015\n",
       "2           2   ukkjctepxt@gmail.com       168.38  2015\n",
       "3           3   gykatilzrt@gmail.com        62.40  2015\n",
       "4           4   mmsgsrtxah@gmail.com        43.08  2015"
      ]
     },
     "execution_count": 7,
     "metadata": {},
     "output_type": "execute_result"
    }
   ],
   "source": [
    "df.head()"
   ]
  },
  {
   "cell_type": "code",
   "execution_count": 8,
   "id": "3aebfb21",
   "metadata": {},
   "outputs": [
    {
     "data": {
      "text/plain": [
       "year\n",
       "2015    29036749.19\n",
       "2016    25730943.59\n",
       "2017    31417495.03\n",
       "Name: net_revenue, dtype: float64"
      ]
     },
     "execution_count": 8,
     "metadata": {},
     "output_type": "execute_result"
    }
   ],
   "source": [
    "df.groupby(['year'])['net_revenue'].sum()"
   ]
  },
  {
   "cell_type": "markdown",
   "id": "f15602c3",
   "metadata": {},
   "source": [
    "Create new df for each year"
   ]
  },
  {
   "cell_type": "code",
   "execution_count": 9,
   "id": "325511d5",
   "metadata": {},
   "outputs": [],
   "source": [
    "yr2015 = df.loc[df['year'] == 2015 ]"
   ]
  },
  {
   "cell_type": "code",
   "execution_count": 10,
   "id": "4499b71f",
   "metadata": {},
   "outputs": [],
   "source": [
    "yr2016 = df.loc[df['year'] == 2016 ]"
   ]
  },
  {
   "cell_type": "code",
   "execution_count": 11,
   "id": "62827427",
   "metadata": {},
   "outputs": [],
   "source": [
    "yr2017 = df.loc[df['year'] == 2017 ]"
   ]
  },
  {
   "cell_type": "markdown",
   "id": "f388263c",
   "metadata": {},
   "source": [
    "•\tTotal revenue for the current year"
   ]
  },
  {
   "cell_type": "markdown",
   "id": "85e735b4",
   "metadata": {},
   "source": [
    "Split the df in three, one for every year"
   ]
  },
  {
   "cell_type": "code",
   "execution_count": 12,
   "id": "de480556",
   "metadata": {},
   "outputs": [
    {
     "data": {
      "text/plain": [
       "29036749.189999994"
      ]
     },
     "execution_count": 12,
     "metadata": {},
     "output_type": "execute_result"
    }
   ],
   "source": [
    "yr2015['net_revenue'].sum()"
   ]
  },
  {
   "cell_type": "code",
   "execution_count": 13,
   "id": "65798c0c",
   "metadata": {},
   "outputs": [
    {
     "data": {
      "text/plain": [
       "25730943.59"
      ]
     },
     "execution_count": 13,
     "metadata": {},
     "output_type": "execute_result"
    }
   ],
   "source": [
    "yr2016['net_revenue'].sum()"
   ]
  },
  {
   "cell_type": "code",
   "execution_count": 14,
   "id": "d7dbd47d",
   "metadata": {},
   "outputs": [
    {
     "data": {
      "text/plain": [
       "31417495.030000016"
      ]
     },
     "execution_count": 14,
     "metadata": {},
     "output_type": "execute_result"
    }
   ],
   "source": [
    "yr2017['net_revenue'].sum()"
   ]
  },
  {
   "cell_type": "markdown",
   "id": "e1016e3e",
   "metadata": {},
   "source": [
    "•\tNew Customer Revenue e.g. new customers not present in previous year only"
   ]
  },
  {
   "cell_type": "markdown",
   "id": "c7e7cc4f",
   "metadata": {},
   "source": [
    "Create a list with the existing customers email in order to find the new customers"
   ]
  },
  {
   "cell_type": "code",
   "execution_count": 15,
   "id": "810a11dc",
   "metadata": {},
   "outputs": [
    {
     "name": "stdout",
     "output_type": "stream",
     "text": [
      "[' nhknapwsbx@gmail.com' 'joiuzbvcpn@gmail.com' 'ukkjctepxt@gmail.com' ...\n",
      " ' vanasezjpw@gmail.com' 'dnpremlztb@gmail.com' 'qsgswrpycl@gmail.com']\n"
     ]
    }
   ],
   "source": [
    "customers_list_2015 =  yr2015['customer_email'].to_numpy()\n",
    "print(customers_list_2015)"
   ]
  },
  {
   "cell_type": "code",
   "execution_count": 16,
   "id": "b19f3fd1",
   "metadata": {},
   "outputs": [],
   "source": [
    "new_customers_2016 = yr2016[~yr2016['customer_email'].isin(customers_list_2015)]"
   ]
  },
  {
   "cell_type": "code",
   "execution_count": 17,
   "id": "2cd7ae9f",
   "metadata": {},
   "outputs": [],
   "source": [
    "new_customers_2016_revenue = new_customers_2016['net_revenue'].sum()"
   ]
  },
  {
   "cell_type": "code",
   "execution_count": 18,
   "id": "6bac12ce",
   "metadata": {},
   "outputs": [
    {
     "data": {
      "text/plain": [
       "18245491.01"
      ]
     },
     "execution_count": 18,
     "metadata": {},
     "output_type": "execute_result"
    }
   ],
   "source": [
    "new_customers_2016_revenue"
   ]
  },
  {
   "cell_type": "code",
   "execution_count": 19,
   "id": "e8395564",
   "metadata": {},
   "outputs": [
    {
     "name": "stdout",
     "output_type": "stream",
     "text": [
      "[' mwrossuukz@gmail.com' 'gkwsoupawk@gmail.com' 'vlyigtgfzs@gmail.com' ...\n",
      " 'fkweqlmmjw@gmail.com' 'pidugzoeej@gmail.com' ' kxqglfdktu@gmail.com']\n"
     ]
    }
   ],
   "source": [
    "customers_list_2016 =  yr2016['customer_email'].to_numpy()\n",
    "print(customers_list_2016)"
   ]
  },
  {
   "cell_type": "code",
   "execution_count": 20,
   "id": "d9b54eac",
   "metadata": {},
   "outputs": [],
   "source": [
    "new_customers_2017 = yr2017[~yr2017['customer_email'].isin(customers_list_2016)]"
   ]
  },
  {
   "cell_type": "code",
   "execution_count": 21,
   "id": "d931dc86",
   "metadata": {},
   "outputs": [],
   "source": [
    "new_customers_2017_revenue = new_customers_2017['net_revenue'].sum()"
   ]
  },
  {
   "cell_type": "code",
   "execution_count": 22,
   "id": "dbd504fe",
   "metadata": {},
   "outputs": [
    {
     "data": {
      "text/plain": [
       "28776235.039999995"
      ]
     },
     "execution_count": 22,
     "metadata": {},
     "output_type": "execute_result"
    }
   ],
   "source": [
    "new_customers_2017_revenue"
   ]
  },
  {
   "cell_type": "markdown",
   "id": "5bb0302c",
   "metadata": {},
   "source": [
    "•\tExisting Customer Growth. To calculate this, use the Revenue of existing customers for current year –(minus) Revenue of existing customers from the previous year"
   ]
  },
  {
   "cell_type": "markdown",
   "id": "edb5cd49",
   "metadata": {},
   "source": [
    "the revenue of existing customers for curent year is the same as the total year revenue"
   ]
  },
  {
   "cell_type": "markdown",
   "id": "38aadd63",
   "metadata": {},
   "source": [
    "For the year 2016: The Existing Customer Growth = 2016 Revenue - 2015 Revenue"
   ]
  },
  {
   "cell_type": "code",
   "execution_count": 23,
   "id": "65c74904",
   "metadata": {},
   "outputs": [],
   "source": [
    "existing_customer_growth_2016 = (yr2016['net_revenue'].sum()) - (yr2015['net_revenue'].sum())"
   ]
  },
  {
   "cell_type": "code",
   "execution_count": 24,
   "id": "b337e531",
   "metadata": {},
   "outputs": [
    {
     "data": {
      "text/plain": [
       "-3305805.599999994"
      ]
     },
     "execution_count": 24,
     "metadata": {},
     "output_type": "execute_result"
    }
   ],
   "source": [
    "existing_customer_growth_2016"
   ]
  },
  {
   "cell_type": "markdown",
   "id": "607b667c",
   "metadata": {},
   "source": [
    "For 2017:"
   ]
  },
  {
   "cell_type": "code",
   "execution_count": 25,
   "id": "88b2990d",
   "metadata": {},
   "outputs": [],
   "source": [
    "existing_customer_growth_2017 = (yr2017['net_revenue'].sum()) - (yr2016['net_revenue'].sum())"
   ]
  },
  {
   "cell_type": "code",
   "execution_count": 26,
   "id": "5d0889e2",
   "metadata": {},
   "outputs": [
    {
     "data": {
      "text/plain": [
       "5686551.440000016"
      ]
     },
     "execution_count": 26,
     "metadata": {},
     "output_type": "execute_result"
    }
   ],
   "source": [
    "existing_customer_growth_2017"
   ]
  },
  {
   "cell_type": "markdown",
   "id": "661ba795",
   "metadata": {},
   "source": [
    "•\tRevenue lost from attrition"
   ]
  },
  {
   "cell_type": "code",
   "execution_count": null,
   "id": "c7e03a4c",
   "metadata": {},
   "outputs": [],
   "source": []
  },
  {
   "cell_type": "markdown",
   "id": "fc171b98",
   "metadata": {},
   "source": [
    "•\tExisting Customer Revenue Current Year"
   ]
  },
  {
   "cell_type": "markdown",
   "id": "090ae21b",
   "metadata": {},
   "source": [
    "Calculate for each Customer the Revenue for the Current Year"
   ]
  },
  {
   "cell_type": "markdown",
   "id": "2c5af1d2",
   "metadata": {},
   "source": [
    "For 2015:"
   ]
  },
  {
   "cell_type": "code",
   "execution_count": 34,
   "id": "ff7c5076",
   "metadata": {},
   "outputs": [
    {
     "data": {
      "text/plain": [
       "customer_email\n",
       " aaagldjgdt@gmail.com     44.72\n",
       " aaaicvtnzx@gmail.com     49.20\n",
       " aaaihliwuo@gmail.com    248.67\n",
       " aaaqpobaaa@gmail.com    126.83\n",
       " aaatyrafec@gmail.com     65.28\n",
       "                          ...  \n",
       "zzzcdrueqb@gmail.com      55.99\n",
       "zzzjhxjwic@gmail.com      72.11\n",
       "zzzrjsowtl@gmail.com      95.80\n",
       "zzztwcvgvp@gmail.com     129.75\n",
       "zzzxxclrua@gmail.com      57.24\n",
       "Name: net_revenue, Length: 231294, dtype: float64"
      ]
     },
     "execution_count": 34,
     "metadata": {},
     "output_type": "execute_result"
    }
   ],
   "source": [
    "yr2015.groupby('customer_email')['net_revenue'].sum()"
   ]
  },
  {
   "cell_type": "code",
   "execution_count": 35,
   "id": "be66ef76",
   "metadata": {},
   "outputs": [],
   "source": [
    "existing_customers_2015 = yr2015[yr2015['customer_email'].isin(customers_list_2015)]"
   ]
  },
  {
   "cell_type": "code",
   "execution_count": 36,
   "id": "2e2cad73",
   "metadata": {},
   "outputs": [],
   "source": [
    "existing_customers_2015_revenue = existing_customers_2015['net_revenue'].sum()"
   ]
  },
  {
   "cell_type": "code",
   "execution_count": 37,
   "id": "78a5410a",
   "metadata": {},
   "outputs": [
    {
     "data": {
      "text/plain": [
       "29036749.189999994"
      ]
     },
     "execution_count": 37,
     "metadata": {},
     "output_type": "execute_result"
    }
   ],
   "source": [
    "existing_customers_2015_revenue"
   ]
  },
  {
   "cell_type": "markdown",
   "id": "096a03c3",
   "metadata": {},
   "source": [
    "For 2016:"
   ]
  },
  {
   "cell_type": "code",
   "execution_count": 28,
   "id": "98449c05",
   "metadata": {},
   "outputs": [
    {
     "data": {
      "text/plain": [
       "customer_email\n",
       " aaafxtkgxo@gmail.com    127.62\n",
       " aaaglfuvti@gmail.com    160.79\n",
       " aaaqpobaaa@gmail.com    109.50\n",
       " aaatizazdz@gmail.com     51.17\n",
       " aaatyrafec@gmail.com     45.53\n",
       "                          ...  \n",
       "zzxqawadmp@gmail.com      48.06\n",
       "zzylxsttdq@gmail.com      75.16\n",
       "zzysesrqck@gmail.com     195.33\n",
       "zzyyqigvjs@gmail.com      25.37\n",
       "zzzwmlwwmn@gmail.com      98.01\n",
       "Name: net_revenue, Length: 204646, dtype: float64"
      ]
     },
     "execution_count": 28,
     "metadata": {},
     "output_type": "execute_result"
    }
   ],
   "source": [
    "yr2016.groupby('customer_email')['net_revenue'].sum()"
   ]
  },
  {
   "cell_type": "code",
   "execution_count": 38,
   "id": "20541039",
   "metadata": {},
   "outputs": [],
   "source": [
    "existing_customers_2016 = yr2016[yr2016['customer_email'].isin(customers_list_2016)]"
   ]
  },
  {
   "cell_type": "code",
   "execution_count": 39,
   "id": "e1481554",
   "metadata": {},
   "outputs": [],
   "source": [
    "existing_customers_2016_revenue = existing_customers_2016['net_revenue'].sum()"
   ]
  },
  {
   "cell_type": "code",
   "execution_count": 40,
   "id": "924b5361",
   "metadata": {},
   "outputs": [
    {
     "data": {
      "text/plain": [
       "25730943.59"
      ]
     },
     "execution_count": 40,
     "metadata": {},
     "output_type": "execute_result"
    }
   ],
   "source": [
    "existing_customers_2016_revenue"
   ]
  },
  {
   "cell_type": "markdown",
   "id": "447be0f4",
   "metadata": {},
   "source": [
    "For 2017:"
   ]
  },
  {
   "cell_type": "code",
   "execution_count": 43,
   "id": "b233b473",
   "metadata": {},
   "outputs": [
    {
     "name": "stdout",
     "output_type": "stream",
     "text": [
      "['mwrossuukz@gmail.com' 'qvjfterwnk@gmail.com ' ' vlyigtgfzs@gmail.com'\n",
      " ... 'appaplmgko@gmail.com' 'wvkpmwsgck@gmail.com' ' aregboumbw@gmail.com']\n"
     ]
    }
   ],
   "source": [
    "customers_list_2017 =  yr2017['customer_email'].to_numpy()\n",
    "print(customers_list_2017)"
   ]
  },
  {
   "cell_type": "code",
   "execution_count": 44,
   "id": "5b6e6e66",
   "metadata": {},
   "outputs": [
    {
     "data": {
      "text/plain": [
       "customer_email\n",
       " aaaiekepot@gmail.com     43.68\n",
       " aaampblnzo@gmail.com     96.51\n",
       " aaanfhekoc@gmail.com     73.36\n",
       " aaaotqrjqh@gmail.com    181.06\n",
       " aaapzlizsp@gmail.com    247.56\n",
       "                          ...  \n",
       "zzzdnukepj@gmail.com      81.99\n",
       "zzzeehgitl@gmail.com      65.98\n",
       "zzzmkaruhf@gmail.com     202.77\n",
       "zzznqseiwv@gmail.com     162.24\n",
       "zzzoxtrfic@gmail.com      15.74\n",
       "Name: net_revenue, Length: 249987, dtype: float64"
      ]
     },
     "execution_count": 44,
     "metadata": {},
     "output_type": "execute_result"
    }
   ],
   "source": [
    "yr2017.groupby('customer_email')['net_revenue'].sum()"
   ]
  },
  {
   "cell_type": "code",
   "execution_count": 45,
   "id": "34341941",
   "metadata": {},
   "outputs": [],
   "source": [
    "existing_customers_2017 = yr2017[yr2017['customer_email'].isin(customers_list_2017)]"
   ]
  },
  {
   "cell_type": "code",
   "execution_count": 46,
   "id": "ca7a0be3",
   "metadata": {},
   "outputs": [],
   "source": [
    "existing_customers_2017_revenue = existing_customers_2017['net_revenue'].sum()"
   ]
  },
  {
   "cell_type": "code",
   "execution_count": 47,
   "id": "fdef9085",
   "metadata": {},
   "outputs": [
    {
     "data": {
      "text/plain": [
       "31417495.030000016"
      ]
     },
     "execution_count": 47,
     "metadata": {},
     "output_type": "execute_result"
    }
   ],
   "source": [
    "existing_customers_2017_revenue"
   ]
  },
  {
   "cell_type": "markdown",
   "id": "9748e699",
   "metadata": {},
   "source": [
    "•\tExisting Customer Revenue Prior Year"
   ]
  },
  {
   "cell_type": "markdown",
   "id": "c82f4e17",
   "metadata": {},
   "source": [
    "For 2016:"
   ]
  },
  {
   "cell_type": "code",
   "execution_count": 48,
   "id": "02b565af",
   "metadata": {},
   "outputs": [],
   "source": [
    "existing_customers_2016_prior = yr2015[yr2015['customer_email'].isin(customers_list_2016)]"
   ]
  },
  {
   "cell_type": "code",
   "execution_count": 49,
   "id": "bb31eb1c",
   "metadata": {},
   "outputs": [],
   "source": [
    "existing_customers_2016_prior_revenue = existing_customers_2016_prior['net_revenue'].sum()"
   ]
  },
  {
   "cell_type": "code",
   "execution_count": 50,
   "id": "ae1b0cd1",
   "metadata": {},
   "outputs": [
    {
     "data": {
      "text/plain": [
       "7465117.12"
      ]
     },
     "execution_count": 50,
     "metadata": {},
     "output_type": "execute_result"
    }
   ],
   "source": [
    "existing_customers_2016_prior_revenue"
   ]
  },
  {
   "cell_type": "markdown",
   "id": "19b260b5",
   "metadata": {},
   "source": [
    "For 2017:"
   ]
  },
  {
   "cell_type": "code",
   "execution_count": 51,
   "id": "9b31a02e",
   "metadata": {},
   "outputs": [],
   "source": [
    "existing_customers_2017_prior = yr2016[yr2016['customer_email'].isin(customers_list_2017)]"
   ]
  },
  {
   "cell_type": "code",
   "execution_count": 52,
   "id": "5ccea2cb",
   "metadata": {},
   "outputs": [],
   "source": [
    "existing_customers_2017_prior_revenue = existing_customers_2017_prior['net_revenue'].sum()"
   ]
  },
  {
   "cell_type": "code",
   "execution_count": 53,
   "id": "ae0b4185",
   "metadata": {},
   "outputs": [
    {
     "data": {
      "text/plain": [
       "2620648.65"
      ]
     },
     "execution_count": 53,
     "metadata": {},
     "output_type": "execute_result"
    }
   ],
   "source": [
    "existing_customers_2017_prior_revenue"
   ]
  },
  {
   "cell_type": "markdown",
   "id": "9c8b564c",
   "metadata": {},
   "source": [
    "•\tTotal Customers Current Year"
   ]
  },
  {
   "cell_type": "markdown",
   "id": "4d63cce1",
   "metadata": {},
   "source": [
    "For 2015:"
   ]
  },
  {
   "cell_type": "code",
   "execution_count": 55,
   "id": "c4dc7f74",
   "metadata": {},
   "outputs": [
    {
     "data": {
      "text/html": [
       "<div>\n",
       "<style scoped>\n",
       "    .dataframe tbody tr th:only-of-type {\n",
       "        vertical-align: middle;\n",
       "    }\n",
       "\n",
       "    .dataframe tbody tr th {\n",
       "        vertical-align: top;\n",
       "    }\n",
       "\n",
       "    .dataframe thead th {\n",
       "        text-align: right;\n",
       "    }\n",
       "</style>\n",
       "<table border=\"1\" class=\"dataframe\">\n",
       "  <thead>\n",
       "    <tr style=\"text-align: right;\">\n",
       "      <th></th>\n",
       "      <th>Unnamed: 0</th>\n",
       "      <th>net_revenue</th>\n",
       "      <th>year</th>\n",
       "    </tr>\n",
       "    <tr>\n",
       "      <th>customer_email</th>\n",
       "      <th></th>\n",
       "      <th></th>\n",
       "      <th></th>\n",
       "    </tr>\n",
       "  </thead>\n",
       "  <tbody>\n",
       "    <tr>\n",
       "      <th>aaagldjgdt@gmail.com</th>\n",
       "      <td>1</td>\n",
       "      <td>1</td>\n",
       "      <td>1</td>\n",
       "    </tr>\n",
       "    <tr>\n",
       "      <th>aaaicvtnzx@gmail.com</th>\n",
       "      <td>1</td>\n",
       "      <td>1</td>\n",
       "      <td>1</td>\n",
       "    </tr>\n",
       "    <tr>\n",
       "      <th>aaaihliwuo@gmail.com</th>\n",
       "      <td>1</td>\n",
       "      <td>1</td>\n",
       "      <td>1</td>\n",
       "    </tr>\n",
       "    <tr>\n",
       "      <th>aaaqpobaaa@gmail.com</th>\n",
       "      <td>1</td>\n",
       "      <td>1</td>\n",
       "      <td>1</td>\n",
       "    </tr>\n",
       "    <tr>\n",
       "      <th>aaatyrafec@gmail.com</th>\n",
       "      <td>1</td>\n",
       "      <td>1</td>\n",
       "      <td>1</td>\n",
       "    </tr>\n",
       "    <tr>\n",
       "      <th>...</th>\n",
       "      <td>...</td>\n",
       "      <td>...</td>\n",
       "      <td>...</td>\n",
       "    </tr>\n",
       "    <tr>\n",
       "      <th>zzzcdrueqb@gmail.com</th>\n",
       "      <td>1</td>\n",
       "      <td>1</td>\n",
       "      <td>1</td>\n",
       "    </tr>\n",
       "    <tr>\n",
       "      <th>zzzjhxjwic@gmail.com</th>\n",
       "      <td>1</td>\n",
       "      <td>1</td>\n",
       "      <td>1</td>\n",
       "    </tr>\n",
       "    <tr>\n",
       "      <th>zzzrjsowtl@gmail.com</th>\n",
       "      <td>1</td>\n",
       "      <td>1</td>\n",
       "      <td>1</td>\n",
       "    </tr>\n",
       "    <tr>\n",
       "      <th>zzztwcvgvp@gmail.com</th>\n",
       "      <td>1</td>\n",
       "      <td>1</td>\n",
       "      <td>1</td>\n",
       "    </tr>\n",
       "    <tr>\n",
       "      <th>zzzxxclrua@gmail.com</th>\n",
       "      <td>1</td>\n",
       "      <td>1</td>\n",
       "      <td>1</td>\n",
       "    </tr>\n",
       "  </tbody>\n",
       "</table>\n",
       "<p>231294 rows × 3 columns</p>\n",
       "</div>"
      ],
      "text/plain": [
       "                       Unnamed: 0  net_revenue  year\n",
       "customer_email                                      \n",
       " aaagldjgdt@gmail.com           1            1     1\n",
       " aaaicvtnzx@gmail.com           1            1     1\n",
       " aaaihliwuo@gmail.com           1            1     1\n",
       " aaaqpobaaa@gmail.com           1            1     1\n",
       " aaatyrafec@gmail.com           1            1     1\n",
       "...                           ...          ...   ...\n",
       "zzzcdrueqb@gmail.com            1            1     1\n",
       "zzzjhxjwic@gmail.com            1            1     1\n",
       "zzzrjsowtl@gmail.com            1            1     1\n",
       "zzztwcvgvp@gmail.com            1            1     1\n",
       "zzzxxclrua@gmail.com            1            1     1\n",
       "\n",
       "[231294 rows x 3 columns]"
      ]
     },
     "execution_count": 55,
     "metadata": {},
     "output_type": "execute_result"
    }
   ],
   "source": [
    "yr2015.groupby('customer_email').count()"
   ]
  },
  {
   "cell_type": "markdown",
   "id": "b6720aa1",
   "metadata": {},
   "source": [
    "For 2016:"
   ]
  },
  {
   "cell_type": "code",
   "execution_count": 56,
   "id": "9c9325fb",
   "metadata": {},
   "outputs": [
    {
     "data": {
      "text/html": [
       "<div>\n",
       "<style scoped>\n",
       "    .dataframe tbody tr th:only-of-type {\n",
       "        vertical-align: middle;\n",
       "    }\n",
       "\n",
       "    .dataframe tbody tr th {\n",
       "        vertical-align: top;\n",
       "    }\n",
       "\n",
       "    .dataframe thead th {\n",
       "        text-align: right;\n",
       "    }\n",
       "</style>\n",
       "<table border=\"1\" class=\"dataframe\">\n",
       "  <thead>\n",
       "    <tr style=\"text-align: right;\">\n",
       "      <th></th>\n",
       "      <th>Unnamed: 0</th>\n",
       "      <th>net_revenue</th>\n",
       "      <th>year</th>\n",
       "    </tr>\n",
       "    <tr>\n",
       "      <th>customer_email</th>\n",
       "      <th></th>\n",
       "      <th></th>\n",
       "      <th></th>\n",
       "    </tr>\n",
       "  </thead>\n",
       "  <tbody>\n",
       "    <tr>\n",
       "      <th>aaafxtkgxo@gmail.com</th>\n",
       "      <td>1</td>\n",
       "      <td>1</td>\n",
       "      <td>1</td>\n",
       "    </tr>\n",
       "    <tr>\n",
       "      <th>aaaglfuvti@gmail.com</th>\n",
       "      <td>1</td>\n",
       "      <td>1</td>\n",
       "      <td>1</td>\n",
       "    </tr>\n",
       "    <tr>\n",
       "      <th>aaaqpobaaa@gmail.com</th>\n",
       "      <td>1</td>\n",
       "      <td>1</td>\n",
       "      <td>1</td>\n",
       "    </tr>\n",
       "    <tr>\n",
       "      <th>aaatizazdz@gmail.com</th>\n",
       "      <td>1</td>\n",
       "      <td>1</td>\n",
       "      <td>1</td>\n",
       "    </tr>\n",
       "    <tr>\n",
       "      <th>aaatyrafec@gmail.com</th>\n",
       "      <td>1</td>\n",
       "      <td>1</td>\n",
       "      <td>1</td>\n",
       "    </tr>\n",
       "    <tr>\n",
       "      <th>...</th>\n",
       "      <td>...</td>\n",
       "      <td>...</td>\n",
       "      <td>...</td>\n",
       "    </tr>\n",
       "    <tr>\n",
       "      <th>zzxqawadmp@gmail.com</th>\n",
       "      <td>1</td>\n",
       "      <td>1</td>\n",
       "      <td>1</td>\n",
       "    </tr>\n",
       "    <tr>\n",
       "      <th>zzylxsttdq@gmail.com</th>\n",
       "      <td>1</td>\n",
       "      <td>1</td>\n",
       "      <td>1</td>\n",
       "    </tr>\n",
       "    <tr>\n",
       "      <th>zzysesrqck@gmail.com</th>\n",
       "      <td>1</td>\n",
       "      <td>1</td>\n",
       "      <td>1</td>\n",
       "    </tr>\n",
       "    <tr>\n",
       "      <th>zzyyqigvjs@gmail.com</th>\n",
       "      <td>1</td>\n",
       "      <td>1</td>\n",
       "      <td>1</td>\n",
       "    </tr>\n",
       "    <tr>\n",
       "      <th>zzzwmlwwmn@gmail.com</th>\n",
       "      <td>1</td>\n",
       "      <td>1</td>\n",
       "      <td>1</td>\n",
       "    </tr>\n",
       "  </tbody>\n",
       "</table>\n",
       "<p>204646 rows × 3 columns</p>\n",
       "</div>"
      ],
      "text/plain": [
       "                       Unnamed: 0  net_revenue  year\n",
       "customer_email                                      \n",
       " aaafxtkgxo@gmail.com           1            1     1\n",
       " aaaglfuvti@gmail.com           1            1     1\n",
       " aaaqpobaaa@gmail.com           1            1     1\n",
       " aaatizazdz@gmail.com           1            1     1\n",
       " aaatyrafec@gmail.com           1            1     1\n",
       "...                           ...          ...   ...\n",
       "zzxqawadmp@gmail.com            1            1     1\n",
       "zzylxsttdq@gmail.com            1            1     1\n",
       "zzysesrqck@gmail.com            1            1     1\n",
       "zzyyqigvjs@gmail.com            1            1     1\n",
       "zzzwmlwwmn@gmail.com            1            1     1\n",
       "\n",
       "[204646 rows x 3 columns]"
      ]
     },
     "execution_count": 56,
     "metadata": {},
     "output_type": "execute_result"
    }
   ],
   "source": [
    "yr2016.groupby('customer_email').count()"
   ]
  },
  {
   "cell_type": "markdown",
   "id": "89843ac4",
   "metadata": {},
   "source": [
    "For 2017:"
   ]
  },
  {
   "cell_type": "code",
   "execution_count": 58,
   "id": "a8ef0738",
   "metadata": {},
   "outputs": [
    {
     "data": {
      "text/html": [
       "<div>\n",
       "<style scoped>\n",
       "    .dataframe tbody tr th:only-of-type {\n",
       "        vertical-align: middle;\n",
       "    }\n",
       "\n",
       "    .dataframe tbody tr th {\n",
       "        vertical-align: top;\n",
       "    }\n",
       "\n",
       "    .dataframe thead th {\n",
       "        text-align: right;\n",
       "    }\n",
       "</style>\n",
       "<table border=\"1\" class=\"dataframe\">\n",
       "  <thead>\n",
       "    <tr style=\"text-align: right;\">\n",
       "      <th></th>\n",
       "      <th>Unnamed: 0</th>\n",
       "      <th>net_revenue</th>\n",
       "      <th>year</th>\n",
       "    </tr>\n",
       "    <tr>\n",
       "      <th>customer_email</th>\n",
       "      <th></th>\n",
       "      <th></th>\n",
       "      <th></th>\n",
       "    </tr>\n",
       "  </thead>\n",
       "  <tbody>\n",
       "    <tr>\n",
       "      <th>aaaiekepot@gmail.com</th>\n",
       "      <td>1</td>\n",
       "      <td>1</td>\n",
       "      <td>1</td>\n",
       "    </tr>\n",
       "    <tr>\n",
       "      <th>aaampblnzo@gmail.com</th>\n",
       "      <td>1</td>\n",
       "      <td>1</td>\n",
       "      <td>1</td>\n",
       "    </tr>\n",
       "    <tr>\n",
       "      <th>aaanfhekoc@gmail.com</th>\n",
       "      <td>1</td>\n",
       "      <td>1</td>\n",
       "      <td>1</td>\n",
       "    </tr>\n",
       "    <tr>\n",
       "      <th>aaaotqrjqh@gmail.com</th>\n",
       "      <td>1</td>\n",
       "      <td>1</td>\n",
       "      <td>1</td>\n",
       "    </tr>\n",
       "    <tr>\n",
       "      <th>aaapzlizsp@gmail.com</th>\n",
       "      <td>1</td>\n",
       "      <td>1</td>\n",
       "      <td>1</td>\n",
       "    </tr>\n",
       "    <tr>\n",
       "      <th>...</th>\n",
       "      <td>...</td>\n",
       "      <td>...</td>\n",
       "      <td>...</td>\n",
       "    </tr>\n",
       "    <tr>\n",
       "      <th>zzzdnukepj@gmail.com</th>\n",
       "      <td>1</td>\n",
       "      <td>1</td>\n",
       "      <td>1</td>\n",
       "    </tr>\n",
       "    <tr>\n",
       "      <th>zzzeehgitl@gmail.com</th>\n",
       "      <td>1</td>\n",
       "      <td>1</td>\n",
       "      <td>1</td>\n",
       "    </tr>\n",
       "    <tr>\n",
       "      <th>zzzmkaruhf@gmail.com</th>\n",
       "      <td>1</td>\n",
       "      <td>1</td>\n",
       "      <td>1</td>\n",
       "    </tr>\n",
       "    <tr>\n",
       "      <th>zzznqseiwv@gmail.com</th>\n",
       "      <td>1</td>\n",
       "      <td>1</td>\n",
       "      <td>1</td>\n",
       "    </tr>\n",
       "    <tr>\n",
       "      <th>zzzoxtrfic@gmail.com</th>\n",
       "      <td>1</td>\n",
       "      <td>1</td>\n",
       "      <td>1</td>\n",
       "    </tr>\n",
       "  </tbody>\n",
       "</table>\n",
       "<p>249987 rows × 3 columns</p>\n",
       "</div>"
      ],
      "text/plain": [
       "                       Unnamed: 0  net_revenue  year\n",
       "customer_email                                      \n",
       " aaaiekepot@gmail.com           1            1     1\n",
       " aaampblnzo@gmail.com           1            1     1\n",
       " aaanfhekoc@gmail.com           1            1     1\n",
       " aaaotqrjqh@gmail.com           1            1     1\n",
       " aaapzlizsp@gmail.com           1            1     1\n",
       "...                           ...          ...   ...\n",
       "zzzdnukepj@gmail.com            1            1     1\n",
       "zzzeehgitl@gmail.com            1            1     1\n",
       "zzzmkaruhf@gmail.com            1            1     1\n",
       "zzznqseiwv@gmail.com            1            1     1\n",
       "zzzoxtrfic@gmail.com            1            1     1\n",
       "\n",
       "[249987 rows x 3 columns]"
      ]
     },
     "execution_count": 58,
     "metadata": {},
     "output_type": "execute_result"
    }
   ],
   "source": [
    "yr2017.groupby('customer_email').count()"
   ]
  },
  {
   "cell_type": "markdown",
   "id": "ddc410f9",
   "metadata": {},
   "source": [
    "•\tNew Customers"
   ]
  },
  {
   "cell_type": "markdown",
   "id": "0dc79d5b",
   "metadata": {},
   "source": [
    "For 2016:"
   ]
  },
  {
   "cell_type": "code",
   "execution_count": 59,
   "id": "805c74ea",
   "metadata": {},
   "outputs": [],
   "source": [
    "new_customers_2016 = yr2016[~yr2016['customer_email'].isin(customers_list_2015)]"
   ]
  },
  {
   "cell_type": "code",
   "execution_count": 60,
   "id": "f7cfff6d",
   "metadata": {},
   "outputs": [
    {
     "data": {
      "text/html": [
       "<div>\n",
       "<style scoped>\n",
       "    .dataframe tbody tr th:only-of-type {\n",
       "        vertical-align: middle;\n",
       "    }\n",
       "\n",
       "    .dataframe tbody tr th {\n",
       "        vertical-align: top;\n",
       "    }\n",
       "\n",
       "    .dataframe thead th {\n",
       "        text-align: right;\n",
       "    }\n",
       "</style>\n",
       "<table border=\"1\" class=\"dataframe\">\n",
       "  <thead>\n",
       "    <tr style=\"text-align: right;\">\n",
       "      <th></th>\n",
       "      <th>Unnamed: 0</th>\n",
       "      <th>customer_email</th>\n",
       "      <th>net_revenue</th>\n",
       "      <th>year</th>\n",
       "    </tr>\n",
       "  </thead>\n",
       "  <tbody>\n",
       "    <tr>\n",
       "      <th>231294</th>\n",
       "      <td>231294</td>\n",
       "      <td>mwrossuukz@gmail.com</td>\n",
       "      <td>197.26</td>\n",
       "      <td>2016</td>\n",
       "    </tr>\n",
       "    <tr>\n",
       "      <th>231295</th>\n",
       "      <td>231295</td>\n",
       "      <td>gkwsoupawk@gmail.com</td>\n",
       "      <td>38.28</td>\n",
       "      <td>2016</td>\n",
       "    </tr>\n",
       "    <tr>\n",
       "      <th>231296</th>\n",
       "      <td>231296</td>\n",
       "      <td>vlyigtgfzs@gmail.com</td>\n",
       "      <td>154.57</td>\n",
       "      <td>2016</td>\n",
       "    </tr>\n",
       "    <tr>\n",
       "      <th>231297</th>\n",
       "      <td>231297</td>\n",
       "      <td>yfirychuhk@gmail.com</td>\n",
       "      <td>102.47</td>\n",
       "      <td>2016</td>\n",
       "    </tr>\n",
       "    <tr>\n",
       "      <th>231298</th>\n",
       "      <td>231298</td>\n",
       "      <td>trnzgqinuu@gmail.com</td>\n",
       "      <td>32.03</td>\n",
       "      <td>2016</td>\n",
       "    </tr>\n",
       "    <tr>\n",
       "      <th>...</th>\n",
       "      <td>...</td>\n",
       "      <td>...</td>\n",
       "      <td>...</td>\n",
       "      <td>...</td>\n",
       "    </tr>\n",
       "    <tr>\n",
       "      <th>435933</th>\n",
       "      <td>435933</td>\n",
       "      <td>sqodpufunf@gmail.com</td>\n",
       "      <td>29.62</td>\n",
       "      <td>2016</td>\n",
       "    </tr>\n",
       "    <tr>\n",
       "      <th>435934</th>\n",
       "      <td>435934</td>\n",
       "      <td>dcakqgznnm@gmail.com</td>\n",
       "      <td>146.47</td>\n",
       "      <td>2016</td>\n",
       "    </tr>\n",
       "    <tr>\n",
       "      <th>435936</th>\n",
       "      <td>435936</td>\n",
       "      <td>rdotspqdxi@gmail.com</td>\n",
       "      <td>169.79</td>\n",
       "      <td>2016</td>\n",
       "    </tr>\n",
       "    <tr>\n",
       "      <th>435937</th>\n",
       "      <td>435937</td>\n",
       "      <td>fkweqlmmjw@gmail.com</td>\n",
       "      <td>79.71</td>\n",
       "      <td>2016</td>\n",
       "    </tr>\n",
       "    <tr>\n",
       "      <th>435938</th>\n",
       "      <td>435938</td>\n",
       "      <td>pidugzoeej@gmail.com</td>\n",
       "      <td>116.80</td>\n",
       "      <td>2016</td>\n",
       "    </tr>\n",
       "  </tbody>\n",
       "</table>\n",
       "<p>145062 rows × 4 columns</p>\n",
       "</div>"
      ],
      "text/plain": [
       "        Unnamed: 0         customer_email  net_revenue  year\n",
       "231294      231294   mwrossuukz@gmail.com       197.26  2016\n",
       "231295      231295   gkwsoupawk@gmail.com        38.28  2016\n",
       "231296      231296   vlyigtgfzs@gmail.com       154.57  2016\n",
       "231297      231297   yfirychuhk@gmail.com       102.47  2016\n",
       "231298      231298   trnzgqinuu@gmail.com        32.03  2016\n",
       "...            ...                    ...          ...   ...\n",
       "435933      435933   sqodpufunf@gmail.com        29.62  2016\n",
       "435934      435934   dcakqgznnm@gmail.com       146.47  2016\n",
       "435936      435936   rdotspqdxi@gmail.com       169.79  2016\n",
       "435937      435937   fkweqlmmjw@gmail.com        79.71  2016\n",
       "435938      435938   pidugzoeej@gmail.com       116.80  2016\n",
       "\n",
       "[145062 rows x 4 columns]"
      ]
     },
     "execution_count": 60,
     "metadata": {},
     "output_type": "execute_result"
    }
   ],
   "source": [
    "new_customers_2016"
   ]
  },
  {
   "cell_type": "markdown",
   "id": "eaf1f2b3",
   "metadata": {},
   "source": [
    "For 2017:"
   ]
  },
  {
   "cell_type": "code",
   "execution_count": 61,
   "id": "5d3f76ab",
   "metadata": {},
   "outputs": [],
   "source": [
    "new_customers_2017 = yr2017[~yr2017['customer_email'].isin(customers_list_2016)]"
   ]
  },
  {
   "cell_type": "code",
   "execution_count": 62,
   "id": "b734524a",
   "metadata": {},
   "outputs": [
    {
     "data": {
      "text/html": [
       "<div>\n",
       "<style scoped>\n",
       "    .dataframe tbody tr th:only-of-type {\n",
       "        vertical-align: middle;\n",
       "    }\n",
       "\n",
       "    .dataframe tbody tr th {\n",
       "        vertical-align: top;\n",
       "    }\n",
       "\n",
       "    .dataframe thead th {\n",
       "        text-align: right;\n",
       "    }\n",
       "</style>\n",
       "<table border=\"1\" class=\"dataframe\">\n",
       "  <thead>\n",
       "    <tr style=\"text-align: right;\">\n",
       "      <th></th>\n",
       "      <th>Unnamed: 0</th>\n",
       "      <th>customer_email</th>\n",
       "      <th>net_revenue</th>\n",
       "      <th>year</th>\n",
       "    </tr>\n",
       "  </thead>\n",
       "  <tbody>\n",
       "    <tr>\n",
       "      <th>435940</th>\n",
       "      <td>435940</td>\n",
       "      <td>mwrossuukz@gmail.com</td>\n",
       "      <td>96.61</td>\n",
       "      <td>2017</td>\n",
       "    </tr>\n",
       "    <tr>\n",
       "      <th>435941</th>\n",
       "      <td>435941</td>\n",
       "      <td>qvjfterwnk@gmail.com</td>\n",
       "      <td>176.00</td>\n",
       "      <td>2017</td>\n",
       "    </tr>\n",
       "    <tr>\n",
       "      <th>435942</th>\n",
       "      <td>435942</td>\n",
       "      <td>vlyigtgfzs@gmail.com</td>\n",
       "      <td>73.47</td>\n",
       "      <td>2017</td>\n",
       "    </tr>\n",
       "    <tr>\n",
       "      <th>435943</th>\n",
       "      <td>435943</td>\n",
       "      <td>yfirychuhk@gmail.com</td>\n",
       "      <td>138.17</td>\n",
       "      <td>2017</td>\n",
       "    </tr>\n",
       "    <tr>\n",
       "      <th>435944</th>\n",
       "      <td>435944</td>\n",
       "      <td>fdkiioqtli@gmail.com</td>\n",
       "      <td>156.87</td>\n",
       "      <td>2017</td>\n",
       "    </tr>\n",
       "    <tr>\n",
       "      <th>...</th>\n",
       "      <td>...</td>\n",
       "      <td>...</td>\n",
       "      <td>...</td>\n",
       "      <td>...</td>\n",
       "    </tr>\n",
       "    <tr>\n",
       "      <th>685922</th>\n",
       "      <td>685922</td>\n",
       "      <td>qzqttwiftu@gmail.com</td>\n",
       "      <td>184.58</td>\n",
       "      <td>2017</td>\n",
       "    </tr>\n",
       "    <tr>\n",
       "      <th>685923</th>\n",
       "      <td>685923</td>\n",
       "      <td>pjodiifjop@gmail.com</td>\n",
       "      <td>133.03</td>\n",
       "      <td>2017</td>\n",
       "    </tr>\n",
       "    <tr>\n",
       "      <th>685924</th>\n",
       "      <td>685924</td>\n",
       "      <td>appaplmgko@gmail.com</td>\n",
       "      <td>200.98</td>\n",
       "      <td>2017</td>\n",
       "    </tr>\n",
       "    <tr>\n",
       "      <th>685925</th>\n",
       "      <td>685925</td>\n",
       "      <td>wvkpmwsgck@gmail.com</td>\n",
       "      <td>235.35</td>\n",
       "      <td>2017</td>\n",
       "    </tr>\n",
       "    <tr>\n",
       "      <th>685926</th>\n",
       "      <td>685926</td>\n",
       "      <td>aregboumbw@gmail.com</td>\n",
       "      <td>208.43</td>\n",
       "      <td>2017</td>\n",
       "    </tr>\n",
       "  </tbody>\n",
       "</table>\n",
       "<p>229028 rows × 4 columns</p>\n",
       "</div>"
      ],
      "text/plain": [
       "        Unnamed: 0         customer_email  net_revenue  year\n",
       "435940      435940   mwrossuukz@gmail.com        96.61  2017\n",
       "435941      435941  qvjfterwnk@gmail.com        176.00  2017\n",
       "435942      435942   vlyigtgfzs@gmail.com        73.47  2017\n",
       "435943      435943   yfirychuhk@gmail.com       138.17  2017\n",
       "435944      435944   fdkiioqtli@gmail.com       156.87  2017\n",
       "...            ...                    ...          ...   ...\n",
       "685922      685922   qzqttwiftu@gmail.com       184.58  2017\n",
       "685923      685923   pjodiifjop@gmail.com       133.03  2017\n",
       "685924      685924   appaplmgko@gmail.com       200.98  2017\n",
       "685925      685925   wvkpmwsgck@gmail.com       235.35  2017\n",
       "685926      685926   aregboumbw@gmail.com       208.43  2017\n",
       "\n",
       "[229028 rows x 4 columns]"
      ]
     },
     "execution_count": 62,
     "metadata": {},
     "output_type": "execute_result"
    }
   ],
   "source": [
    "new_customers_2017"
   ]
  },
  {
   "cell_type": "markdown",
   "id": "806bd73d",
   "metadata": {},
   "source": [
    "•\tLost Customers"
   ]
  },
  {
   "cell_type": "markdown",
   "id": "39cbf628",
   "metadata": {},
   "source": [
    "For 2016:"
   ]
  },
  {
   "cell_type": "code",
   "execution_count": 67,
   "id": "25e4bb7c",
   "metadata": {},
   "outputs": [],
   "source": [
    "lost_customers_2016 = yr2015[~yr2015['customer_email'].isin(customers_list_2016)]"
   ]
  },
  {
   "cell_type": "code",
   "execution_count": 68,
   "id": "c726868f",
   "metadata": {},
   "outputs": [
    {
     "data": {
      "text/html": [
       "<div>\n",
       "<style scoped>\n",
       "    .dataframe tbody tr th:only-of-type {\n",
       "        vertical-align: middle;\n",
       "    }\n",
       "\n",
       "    .dataframe tbody tr th {\n",
       "        vertical-align: top;\n",
       "    }\n",
       "\n",
       "    .dataframe thead th {\n",
       "        text-align: right;\n",
       "    }\n",
       "</style>\n",
       "<table border=\"1\" class=\"dataframe\">\n",
       "  <thead>\n",
       "    <tr style=\"text-align: right;\">\n",
       "      <th></th>\n",
       "      <th>Unnamed: 0</th>\n",
       "      <th>customer_email</th>\n",
       "      <th>net_revenue</th>\n",
       "      <th>year</th>\n",
       "    </tr>\n",
       "  </thead>\n",
       "  <tbody>\n",
       "    <tr>\n",
       "      <th>0</th>\n",
       "      <td>0</td>\n",
       "      <td>nhknapwsbx@gmail.com</td>\n",
       "      <td>249.92</td>\n",
       "      <td>2015</td>\n",
       "    </tr>\n",
       "    <tr>\n",
       "      <th>1</th>\n",
       "      <td>1</td>\n",
       "      <td>joiuzbvcpn@gmail.com</td>\n",
       "      <td>87.61</td>\n",
       "      <td>2015</td>\n",
       "    </tr>\n",
       "    <tr>\n",
       "      <th>2</th>\n",
       "      <td>2</td>\n",
       "      <td>ukkjctepxt@gmail.com</td>\n",
       "      <td>168.38</td>\n",
       "      <td>2015</td>\n",
       "    </tr>\n",
       "    <tr>\n",
       "      <th>3</th>\n",
       "      <td>3</td>\n",
       "      <td>gykatilzrt@gmail.com</td>\n",
       "      <td>62.40</td>\n",
       "      <td>2015</td>\n",
       "    </tr>\n",
       "    <tr>\n",
       "      <th>4</th>\n",
       "      <td>4</td>\n",
       "      <td>mmsgsrtxah@gmail.com</td>\n",
       "      <td>43.08</td>\n",
       "      <td>2015</td>\n",
       "    </tr>\n",
       "    <tr>\n",
       "      <th>...</th>\n",
       "      <td>...</td>\n",
       "      <td>...</td>\n",
       "      <td>...</td>\n",
       "      <td>...</td>\n",
       "    </tr>\n",
       "    <tr>\n",
       "      <th>231289</th>\n",
       "      <td>231289</td>\n",
       "      <td>xtrpmgjbwp@gmail.com</td>\n",
       "      <td>216.89</td>\n",
       "      <td>2015</td>\n",
       "    </tr>\n",
       "    <tr>\n",
       "      <th>231290</th>\n",
       "      <td>231290</td>\n",
       "      <td>peeorxpsbr@gmail.com</td>\n",
       "      <td>39.16</td>\n",
       "      <td>2015</td>\n",
       "    </tr>\n",
       "    <tr>\n",
       "      <th>231291</th>\n",
       "      <td>231291</td>\n",
       "      <td>vanasezjpw@gmail.com</td>\n",
       "      <td>233.46</td>\n",
       "      <td>2015</td>\n",
       "    </tr>\n",
       "    <tr>\n",
       "      <th>231292</th>\n",
       "      <td>231292</td>\n",
       "      <td>dnpremlztb@gmail.com</td>\n",
       "      <td>136.27</td>\n",
       "      <td>2015</td>\n",
       "    </tr>\n",
       "    <tr>\n",
       "      <th>231293</th>\n",
       "      <td>231293</td>\n",
       "      <td>qsgswrpycl@gmail.com</td>\n",
       "      <td>60.24</td>\n",
       "      <td>2015</td>\n",
       "    </tr>\n",
       "  </tbody>\n",
       "</table>\n",
       "<p>171710 rows × 4 columns</p>\n",
       "</div>"
      ],
      "text/plain": [
       "        Unnamed: 0         customer_email  net_revenue  year\n",
       "0                0   nhknapwsbx@gmail.com       249.92  2015\n",
       "1                1   joiuzbvcpn@gmail.com        87.61  2015\n",
       "2                2   ukkjctepxt@gmail.com       168.38  2015\n",
       "3                3   gykatilzrt@gmail.com        62.40  2015\n",
       "4                4   mmsgsrtxah@gmail.com        43.08  2015\n",
       "...            ...                    ...          ...   ...\n",
       "231289      231289   xtrpmgjbwp@gmail.com       216.89  2015\n",
       "231290      231290   peeorxpsbr@gmail.com        39.16  2015\n",
       "231291      231291   vanasezjpw@gmail.com       233.46  2015\n",
       "231292      231292   dnpremlztb@gmail.com       136.27  2015\n",
       "231293      231293   qsgswrpycl@gmail.com        60.24  2015\n",
       "\n",
       "[171710 rows x 4 columns]"
      ]
     },
     "execution_count": 68,
     "metadata": {},
     "output_type": "execute_result"
    }
   ],
   "source": [
    "lost_customers_2016"
   ]
  },
  {
   "cell_type": "markdown",
   "id": "01fd0f1e",
   "metadata": {},
   "source": [
    "For 2017:"
   ]
  },
  {
   "cell_type": "code",
   "execution_count": 65,
   "id": "dc766120",
   "metadata": {},
   "outputs": [],
   "source": [
    "lost_customers_2017 = yr2016[~yr2016['customer_email'].isin(customers_list_2017)]"
   ]
  },
  {
   "cell_type": "code",
   "execution_count": 66,
   "id": "a31a4cf8",
   "metadata": {},
   "outputs": [
    {
     "data": {
      "text/html": [
       "<div>\n",
       "<style scoped>\n",
       "    .dataframe tbody tr th:only-of-type {\n",
       "        vertical-align: middle;\n",
       "    }\n",
       "\n",
       "    .dataframe tbody tr th {\n",
       "        vertical-align: top;\n",
       "    }\n",
       "\n",
       "    .dataframe thead th {\n",
       "        text-align: right;\n",
       "    }\n",
       "</style>\n",
       "<table border=\"1\" class=\"dataframe\">\n",
       "  <thead>\n",
       "    <tr style=\"text-align: right;\">\n",
       "      <th></th>\n",
       "      <th>Unnamed: 0</th>\n",
       "      <th>customer_email</th>\n",
       "      <th>net_revenue</th>\n",
       "      <th>year</th>\n",
       "    </tr>\n",
       "  </thead>\n",
       "  <tbody>\n",
       "    <tr>\n",
       "      <th>231294</th>\n",
       "      <td>231294</td>\n",
       "      <td>mwrossuukz@gmail.com</td>\n",
       "      <td>197.26</td>\n",
       "      <td>2016</td>\n",
       "    </tr>\n",
       "    <tr>\n",
       "      <th>231295</th>\n",
       "      <td>231295</td>\n",
       "      <td>gkwsoupawk@gmail.com</td>\n",
       "      <td>38.28</td>\n",
       "      <td>2016</td>\n",
       "    </tr>\n",
       "    <tr>\n",
       "      <th>231296</th>\n",
       "      <td>231296</td>\n",
       "      <td>vlyigtgfzs@gmail.com</td>\n",
       "      <td>154.57</td>\n",
       "      <td>2016</td>\n",
       "    </tr>\n",
       "    <tr>\n",
       "      <th>231297</th>\n",
       "      <td>231297</td>\n",
       "      <td>yfirychuhk@gmail.com</td>\n",
       "      <td>102.47</td>\n",
       "      <td>2016</td>\n",
       "    </tr>\n",
       "    <tr>\n",
       "      <th>231298</th>\n",
       "      <td>231298</td>\n",
       "      <td>trnzgqinuu@gmail.com</td>\n",
       "      <td>32.03</td>\n",
       "      <td>2016</td>\n",
       "    </tr>\n",
       "    <tr>\n",
       "      <th>...</th>\n",
       "      <td>...</td>\n",
       "      <td>...</td>\n",
       "      <td>...</td>\n",
       "      <td>...</td>\n",
       "    </tr>\n",
       "    <tr>\n",
       "      <th>435933</th>\n",
       "      <td>435933</td>\n",
       "      <td>sqodpufunf@gmail.com</td>\n",
       "      <td>29.62</td>\n",
       "      <td>2016</td>\n",
       "    </tr>\n",
       "    <tr>\n",
       "      <th>435935</th>\n",
       "      <td>435935</td>\n",
       "      <td>mezrjfkced@gmail.com</td>\n",
       "      <td>114.17</td>\n",
       "      <td>2016</td>\n",
       "    </tr>\n",
       "    <tr>\n",
       "      <th>435936</th>\n",
       "      <td>435936</td>\n",
       "      <td>rdotspqdxi@gmail.com</td>\n",
       "      <td>169.79</td>\n",
       "      <td>2016</td>\n",
       "    </tr>\n",
       "    <tr>\n",
       "      <th>435938</th>\n",
       "      <td>435938</td>\n",
       "      <td>pidugzoeej@gmail.com</td>\n",
       "      <td>116.80</td>\n",
       "      <td>2016</td>\n",
       "    </tr>\n",
       "    <tr>\n",
       "      <th>435939</th>\n",
       "      <td>435939</td>\n",
       "      <td>kxqglfdktu@gmail.com</td>\n",
       "      <td>37.31</td>\n",
       "      <td>2016</td>\n",
       "    </tr>\n",
       "  </tbody>\n",
       "</table>\n",
       "<p>183687 rows × 4 columns</p>\n",
       "</div>"
      ],
      "text/plain": [
       "        Unnamed: 0         customer_email  net_revenue  year\n",
       "231294      231294   mwrossuukz@gmail.com       197.26  2016\n",
       "231295      231295   gkwsoupawk@gmail.com        38.28  2016\n",
       "231296      231296   vlyigtgfzs@gmail.com       154.57  2016\n",
       "231297      231297   yfirychuhk@gmail.com       102.47  2016\n",
       "231298      231298   trnzgqinuu@gmail.com        32.03  2016\n",
       "...            ...                    ...          ...   ...\n",
       "435933      435933   sqodpufunf@gmail.com        29.62  2016\n",
       "435935      435935   mezrjfkced@gmail.com       114.17  2016\n",
       "435936      435936   rdotspqdxi@gmail.com       169.79  2016\n",
       "435938      435938   pidugzoeej@gmail.com       116.80  2016\n",
       "435939      435939   kxqglfdktu@gmail.com        37.31  2016\n",
       "\n",
       "[183687 rows x 4 columns]"
      ]
     },
     "execution_count": 66,
     "metadata": {},
     "output_type": "execute_result"
    }
   ],
   "source": [
    "lost_customers_2017"
   ]
  },
  {
   "cell_type": "markdown",
   "id": "e442f7ad",
   "metadata": {},
   "source": [
    "Year with the most orders"
   ]
  },
  {
   "cell_type": "code",
   "execution_count": 69,
   "id": "f7e5ef33",
   "metadata": {},
   "outputs": [
    {
     "data": {
      "image/png": "[encoded data removed]",
      "text/plain": [
       "<Figure size 640x480 with 1 Axes>"
      ]
     },
     "metadata": {},
     "output_type": "display_data"
    }
   ],
   "source": [
    "YMO=df['year'].value_counts().plot(kind='pie')"
   ]
  },
  {
   "cell_type": "markdown",
   "id": "0c1edeb3",
   "metadata": {},
   "source": [
    "Customers with the most orders"
   ]
  },
  {
   "cell_type": "code",
   "execution_count": 76,
   "id": "b9e5b669",
   "metadata": {},
   "outputs": [
    {
     "data": {
      "text/plain": [
       "<AxesSubplot:xlabel='customer_email'>"
      ]
     },
     "execution_count": 76,
     "metadata": {},
     "output_type": "execute_result"
    },
    {
     "data": {
      "image/png": "[encoded data removed]",
      "text/plain": [
       "<Figure size 640x480 with 1 Axes>"
      ]
     },
     "metadata": {},
     "output_type": "display_data"
    }
   ],
   "source": [
    "best_customers = df.groupby(['customer_email'])['net_revenue'].sum().sort_values(ascending=False)\n",
    "best_customers.head(5).plot(kind = 'bar')"
   ]
  },
  {
   "cell_type": "markdown",
   "id": "08212935",
   "metadata": {},
   "source": [
    "Average Year Revenue"
   ]
  },
  {
   "cell_type": "code",
   "execution_count": 79,
   "id": "3deb86c8",
   "metadata": {},
   "outputs": [
    {
     "data": {
      "text/plain": [
       "<AxesSubplot:xlabel='year'>"
      ]
     },
     "execution_count": 79,
     "metadata": {},
     "output_type": "execute_result"
    },
    {
     "data": {
      "image/png": "[encoded data removed]",
      "text/plain": [
       "<Figure size 640x480 with 1 Axes>"
      ]
     },
     "metadata": {},
     "output_type": "display_data"
    }
   ],
   "source": [
    "avg_df = df.groupby('year')['net_revenue'].mean()\n",
    "avg_df.plot(kind=\"bar\")"
   ]
  },
  {
   "cell_type": "code",
   "execution_count": null,
   "id": "6cdb34b9",
   "metadata": {},
   "outputs": [],
   "source": []
  },
  {
   "cell_type": "code",
   "execution_count": null,
   "id": "745f0307",
   "metadata": {},
   "outputs": [],
   "source": []
  },
  {
   "cell_type": "code",
   "execution_count": null,
   "id": "18a00e0e",
   "metadata": {},
   "outputs": [],
   "source": []
  }
 ],
 "metadata": {
  "kernelspec": {
   "display_name": "Python 3 (ipykernel)",
   "language": "python",
   "name": "python3"
  },
  "language_info": {
   "codemirror_mode": {
    "name": "ipython",
    "version": 3
   },
   "file_extension": ".py",
   "mimetype": "text/x-python",
   "name": "python",
   "nbconvert_exporter": "python",
   "pygments_lexer": "ipython3",
   "version": "3.9.13"
  }
 },
 "nbformat": 4,
 "nbformat_minor": 5
}
